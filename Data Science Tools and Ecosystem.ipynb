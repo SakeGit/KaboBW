{
    "cells": [
        {
            "cell_type": "markdown",
            "metadata": {
                "collapsed": true
            },
            "source": "<h1> Data Science Tools and Ecosystem  <h1>\n   "
        },
        {
            "cell_type": "markdown",
            "metadata": {},
            "source": "In this notebook, Data Science Tools and Ecosystem are summarized."
        },
        {
            "cell_type": "markdown",
            "metadata": {},
            "source": "Some of the popular languages that Data Scientists use are:\n\n1. Python\n2. SQL\n3. R Language\n4. Java Script\n"
        },
        {
            "cell_type": "markdown",
            "metadata": {},
            "source": "Some of the commonly used libraries used by Data Scientists include:\n\n1. Matplotlib\n2. NumPy\n3. SciPy\n4. Scikit-learn"
        },
        {
            "cell_type": "markdown",
            "metadata": {},
            "source": "| Data Science Tools |\n|----------|\n| RStudio |\n|Apache Spark |\n| TensorFlow |\n"
        },
        {
            "cell_type": "markdown",
            "metadata": {},
            "source": "<h3> Below are a few examples of evaluating arithmetic expressions in Python <h3>\n    "
        },
        {
            "cell_type": "code",
            "execution_count": 3,
            "metadata": {},
            "outputs": [
                {
                    "data": {
                        "text/plain": "17"
                    },
                    "execution_count": 3,
                    "metadata": {},
                    "output_type": "execute_result"
                }
            ],
            "source": "# This a simple arithmetic expression to mutiply then add integers\n\n(3*4)+5"
        },
        {
            "cell_type": "code",
            "execution_count": 8,
            "metadata": {},
            "outputs": [
                {
                    "data": {
                        "text/plain": "3.3333333333333335"
                    },
                    "execution_count": 8,
                    "metadata": {},
                    "output_type": "execute_result"
                }
            ],
            "source": "# This will convert 200 minutes to hours by diving by 60\n\n200/60 \n"
        },
        {
            "cell_type": "markdown",
            "metadata": {},
            "source": "- <b> Objectives: <b>\n    \n    - List popular languages for Data Science\n    - List of Popular libraries for Data Scientists\n    - List of Popular Data Science Tools\n    - Show case basic arithmetic functions \n    \n    \n "
        },
        {
            "cell_type": "markdown",
            "metadata": {},
            "source": "<h2> Author </h2>\n    \nKabo"
        },
        {
            "cell_type": "code",
            "execution_count": null,
            "metadata": {},
            "outputs": [],
            "source": ""
        }
    ],
    "metadata": {
        "kernelspec": {
            "display_name": "Python 3.10",
            "language": "python",
            "name": "python3"
        },
        "language_info": {
            "codemirror_mode": {
                "name": "ipython",
                "version": 3
            },
            "file_extension": ".py",
            "mimetype": "text/x-python",
            "name": "python",
            "nbconvert_exporter": "python",
            "pygments_lexer": "ipython3",
            "version": "3.10.9"
        }
    },
    "nbformat": 4,
    "nbformat_minor": 1
}